{
 "cells": [
  {
   "cell_type": "code",
   "execution_count": 1,
   "id": "ef851788",
   "metadata": {},
   "outputs": [],
   "source": [
    "from random import seed, random\n",
    "seed(2)"
   ]
  },
  {
   "cell_type": "markdown",
   "id": "5f20facf",
   "metadata": {},
   "source": [
    "## Example 1"
   ]
  },
  {
   "cell_type": "code",
   "execution_count": 2,
   "id": "3596af65",
   "metadata": {},
   "outputs": [
    {
     "name": "stdout",
     "output_type": "stream",
     "text": [
      "a is greater than b, and its value is 0.9560342718892494\n"
     ]
    }
   ],
   "source": [
    "a = random()\n",
    "b = random()\n",
    "if a > b:\n",
    "    print('a is greater than b, and its value is {}'.format(a))\n",
    "else:\n",
    "    print('b is greater than a, and its value is {}'.format(b))"
   ]
  },
  {
   "cell_type": "markdown",
   "id": "8b53b53f",
   "metadata": {},
   "source": [
    "## Example 2"
   ]
  },
  {
   "cell_type": "code",
   "execution_count": 3,
   "id": "87e33e32",
   "metadata": {},
   "outputs": [
    {
     "name": "stdout",
     "output_type": "stream",
     "text": [
      "a is greater than b and c, and its value is 0.9560342718892494\n"
     ]
    }
   ],
   "source": [
    "c = random()\n",
    "if a > b and a > c:\n",
    "    print('a is greater than b and c, and its value is {}'.format(a))\n",
    "elif a > b and a < c:\n",
    "    print('a is greater than b but less than c')\n",
    "elif a==b or a==c:\n",
    "    print('a is equal to b or a is equal to c')\n",
    "else:\n",
    "    print('a is less than b and c')"
   ]
  },
  {
   "cell_type": "markdown",
   "id": "8b505408",
   "metadata": {},
   "source": [
    "## Example 3"
   ]
  },
  {
   "cell_type": "code",
   "execution_count": 4,
   "id": "fcead4d4",
   "metadata": {},
   "outputs": [
    {
     "name": "stdout",
     "output_type": "stream",
     "text": [
      "a is less than b and c\n"
     ]
    }
   ],
   "source": [
    "a = random()\n",
    "b = random()\n",
    "c = random()\n",
    "if a > b:\n",
    "    if a > c:\n",
    "        print('a is greater than b and c')\n",
    "    elif a==c:\n",
    "        print('a is greater than b but equal to c')\n",
    "    else:\n",
    "        print('a is greater than b but less than c')\n",
    "elif a == b:\n",
    "    if a > c:\n",
    "        print('a is equal to b and greater than c')\n",
    "    elif a==c:\n",
    "        print('a equal to b and c')\n",
    "    else:\n",
    "        print('a is equal to b but less than c')\n",
    "else:\n",
    "    if a > c:\n",
    "        print('a is less than b and greater than c')\n",
    "    elif a==c:\n",
    "        print('a is less than b but equal to c')\n",
    "    else:\n",
    "        print('a is less than b and c')    "
   ]
  },
  {
   "cell_type": "markdown",
   "id": "6f49d9e8",
   "metadata": {},
   "source": [
    "## Example 4"
   ]
  },
  {
   "cell_type": "code",
   "execution_count": 5,
   "id": "f94d301e",
   "metadata": {},
   "outputs": [
    {
     "name": "stdout",
     "output_type": "stream",
     "text": [
      "0\n",
      "1\n",
      "2\n",
      "3\n",
      "4\n",
      "5\n",
      "6\n",
      "7\n",
      "8\n",
      "9\n"
     ]
    }
   ],
   "source": [
    "counter = 0\n",
    "while counter < 10:\n",
    "    print(counter)\n",
    "    counter+=1"
   ]
  },
  {
   "cell_type": "markdown",
   "id": "42e49039",
   "metadata": {},
   "source": [
    "## Example 5"
   ]
  },
  {
   "cell_type": "code",
   "execution_count": 6,
   "id": "4e755b16",
   "metadata": {},
   "outputs": [
    {
     "name": "stdout",
     "output_type": "stream",
     "text": [
      "0\n",
      "1\n",
      "2\n",
      "3\n",
      "4\n",
      "5\n"
     ]
    }
   ],
   "source": [
    "counter = 0\n",
    "while counter < 10:\n",
    "    print(counter)\n",
    "    counter+=1\n",
    "    if counter == 6:\n",
    "        break"
   ]
  },
  {
   "cell_type": "markdown",
   "id": "c60a0b29",
   "metadata": {},
   "source": [
    "## Example 6"
   ]
  },
  {
   "cell_type": "code",
   "execution_count": 7,
   "id": "94ada471",
   "metadata": {},
   "outputs": [
    {
     "name": "stdout",
     "output_type": "stream",
     "text": [
      "1\n",
      "2\n",
      "3\n",
      "5\n",
      "6\n",
      "7\n",
      "8\n",
      "9\n",
      "10\n"
     ]
    }
   ],
   "source": [
    "counter = 0\n",
    "while counter < 10:\n",
    "    counter+=1\n",
    "    if counter == 4:\n",
    "        continue\n",
    "    print(counter)"
   ]
  },
  {
   "cell_type": "markdown",
   "id": "7a7024ad",
   "metadata": {},
   "source": [
    "## Example 7"
   ]
  },
  {
   "cell_type": "code",
   "execution_count": 8,
   "id": "a89f6e3a",
   "metadata": {},
   "outputs": [
    {
     "name": "stdout",
     "output_type": "stream",
     "text": [
      "1\n",
      "3\n",
      "5\n",
      "7\n",
      "9\n"
     ]
    }
   ],
   "source": [
    "counter = 0\n",
    "while counter < 10:\n",
    "    counter+=1\n",
    "    if counter % 2 ==0:\n",
    "        continue\n",
    "    print(counter)"
   ]
  },
  {
   "cell_type": "code",
   "execution_count": null,
   "id": "fca0b5b9",
   "metadata": {},
   "outputs": [],
   "source": []
  }
 ],
 "metadata": {
  "@webio": {
   "lastCommId": null,
   "lastKernelId": null
  },
  "kernelspec": {
   "display_name": "Python 3",
   "language": "python",
   "name": "python3"
  },
  "language_info": {
   "codemirror_mode": {
    "name": "ipython",
    "version": 3
   },
   "file_extension": ".py",
   "mimetype": "text/x-python",
   "name": "python",
   "nbconvert_exporter": "python",
   "pygments_lexer": "ipython3",
   "version": "3.8.8"
  }
 },
 "nbformat": 4,
 "nbformat_minor": 5
}
