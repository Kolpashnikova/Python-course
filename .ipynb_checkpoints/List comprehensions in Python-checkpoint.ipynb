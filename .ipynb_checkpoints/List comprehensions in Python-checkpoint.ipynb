{
 "cells": [
  {
   "cell_type": "markdown",
   "id": "d56e7d84",
   "metadata": {},
   "source": [
    "# List comprehensions and for loops"
   ]
  },
  {
   "cell_type": "code",
   "execution_count": 1,
   "id": "c875d09e",
   "metadata": {},
   "outputs": [],
   "source": [
    "# lists\n",
    "lst = [1, 2, 3, 4, 5, 6, 7]"
   ]
  },
  {
   "cell_type": "code",
   "execution_count": 2,
   "id": "1e15ab78",
   "metadata": {},
   "outputs": [
    {
     "data": {
      "text/plain": [
       "1"
      ]
     },
     "execution_count": 2,
     "metadata": {},
     "output_type": "execute_result"
    }
   ],
   "source": [
    "# in python, indexes start at zero\n",
    "lst[0]"
   ]
  },
  {
   "cell_type": "code",
   "execution_count": null,
   "id": "28ccee16",
   "metadata": {},
   "outputs": [],
   "source": [
    "lst = list(range(1,8))\n",
    "lst"
   ]
  },
  {
   "cell_type": "markdown",
   "id": "f670adad",
   "metadata": {},
   "source": [
    "## Example 1"
   ]
  },
  {
   "cell_type": "code",
   "execution_count": null,
   "id": "cc998f0d",
   "metadata": {},
   "outputs": [],
   "source": [
    "## creating a new list, which multiplies every element by 2\n",
    "new_lst = []\n",
    "for i in lst:\n",
    "    new_lst.append(i*2)\n",
    "    \n",
    "print(new_lst)"
   ]
  },
  {
   "cell_type": "code",
   "execution_count": null,
   "id": "d703d6d9",
   "metadata": {},
   "outputs": [],
   "source": [
    "## same, but using list comprehensions\n",
    "[i*2 for i in lst]"
   ]
  },
  {
   "cell_type": "markdown",
   "id": "c4821fd9",
   "metadata": {},
   "source": [
    "## Example 2"
   ]
  },
  {
   "cell_type": "code",
   "execution_count": null,
   "id": "25ee10fe",
   "metadata": {},
   "outputs": [],
   "source": [
    "## using to create a new list of exponentials of elements in lst\n",
    "import numpy as np\n",
    "new_lst = []\n",
    "for i in lst:\n",
    "    new_lst.append(np.exp(i))\n",
    "    \n",
    "print(new_lst)"
   ]
  },
  {
   "cell_type": "code",
   "execution_count": null,
   "id": "0780205c",
   "metadata": {},
   "outputs": [],
   "source": [
    "## same thing but with list comprehensions\n",
    "[np.exp(i) for i in lst]"
   ]
  },
  {
   "cell_type": "markdown",
   "id": "a540cb3e",
   "metadata": {},
   "source": [
    "## Example 3"
   ]
  },
  {
   "cell_type": "code",
   "execution_count": null,
   "id": "2a886034",
   "metadata": {},
   "outputs": [],
   "source": [
    "## create a new list using subset of lst\n",
    "new_lst = []\n",
    "for i in lst:\n",
    "    new_lst.append(lst[0:2])\n",
    "    \n",
    "print(new_lst)"
   ]
  },
  {
   "cell_type": "code",
   "execution_count": null,
   "id": "4d831256",
   "metadata": {},
   "outputs": [],
   "source": [
    "## same with list comprehensions\n",
    "[lst[0:2] for i in lst]"
   ]
  },
  {
   "cell_type": "markdown",
   "id": "93a37146",
   "metadata": {},
   "source": [
    "## Example 4"
   ]
  },
  {
   "cell_type": "code",
   "execution_count": null,
   "id": "0b4469d4",
   "metadata": {},
   "outputs": [],
   "source": [
    "## using extend instead of append\n",
    "new_lst = []\n",
    "for i in lst:\n",
    "    new_lst.extend(lst[0:2])\n",
    "    \n",
    "print(new_lst)"
   ]
  },
  {
   "cell_type": "code",
   "execution_count": null,
   "id": "02c6cd55",
   "metadata": {},
   "outputs": [],
   "source": [
    "## one of the ways to do it in list comprehensions\n",
    "[lst[0:2]*i for i in lst][-1]"
   ]
  },
  {
   "cell_type": "code",
   "execution_count": null,
   "id": "50fec96a",
   "metadata": {},
   "outputs": [],
   "source": [
    "## the way that you probably would use instead\n",
    "lst[0:2]*len(lst)"
   ]
  },
  {
   "cell_type": "code",
   "execution_count": null,
   "id": "25e81a62",
   "metadata": {},
   "outputs": [],
   "source": [
    "## if you want to do element-wise multiplication, you need to use np.array\n",
    "np.array(lst[0:2])*len(lst)"
   ]
  },
  {
   "cell_type": "markdown",
   "id": "fd23714f",
   "metadata": {},
   "source": [
    "## Example 5"
   ]
  },
  {
   "cell_type": "code",
   "execution_count": null,
   "id": "c4893f44",
   "metadata": {},
   "outputs": [],
   "source": [
    "## using strings to loop\n",
    "new_lst = []\n",
    "for letter in 'abc':\n",
    "    for i in lst:\n",
    "        new_lst.append((letter, i))\n",
    "print(new_lst)"
   ]
  },
  {
   "cell_type": "code",
   "execution_count": null,
   "id": "b3d953a4",
   "metadata": {},
   "outputs": [],
   "source": [
    "## same with list comprehensions\n",
    "[(letter, i) for letter in 'abc' for i in lst]"
   ]
  },
  {
   "cell_type": "markdown",
   "id": "a7976c40",
   "metadata": {},
   "source": [
    "## Example 6"
   ]
  },
  {
   "cell_type": "code",
   "execution_count": null,
   "id": "fe232883",
   "metadata": {},
   "outputs": [],
   "source": [
    "## zip lists of the same length\n",
    "letters = 'abcdefg'\n",
    "list(zip(letters, lst))"
   ]
  },
  {
   "cell_type": "code",
   "execution_count": null,
   "id": "2638256d",
   "metadata": {},
   "outputs": [],
   "source": [
    "## create a dictionary using the letters and numbers\n",
    "new_dct = {}\n",
    "for l, i in zip(letters, lst):\n",
    "    new_dct[l] = i\n",
    "print(new_dct)"
   ]
  },
  {
   "cell_type": "code",
   "execution_count": null,
   "id": "926f1a4c",
   "metadata": {},
   "outputs": [],
   "source": [
    "## same with list comprehensions\n",
    "{l: i for l, i in zip(letters, lst)}"
   ]
  },
  {
   "cell_type": "markdown",
   "id": "6eb1bc1d",
   "metadata": {},
   "source": [
    "## Example 7"
   ]
  },
  {
   "cell_type": "code",
   "execution_count": null,
   "id": "12c7eb24",
   "metadata": {},
   "outputs": [],
   "source": [
    "## create a list\n",
    "new_lst = []\n",
    "for k, v in new_dct.items():\n",
    "    new_lst.append((k,v))\n",
    "print(new_lst)"
   ]
  },
  {
   "cell_type": "code",
   "execution_count": null,
   "id": "76d82889",
   "metadata": {},
   "outputs": [],
   "source": [
    "## same but with list comprehensions\n",
    "[(k, v) for k, v in new_dct.items()]"
   ]
  },
  {
   "cell_type": "markdown",
   "id": "9296c6b5",
   "metadata": {},
   "source": [
    "## Example 8"
   ]
  },
  {
   "cell_type": "code",
   "execution_count": null,
   "id": "d63c306f",
   "metadata": {},
   "outputs": [],
   "source": [
    "## intersect two sets\n",
    "other_letters = 'defgijk'\n",
    "set(letters) & set(other_letters)"
   ]
  },
  {
   "cell_type": "code",
   "execution_count": null,
   "id": "532cdda5",
   "metadata": {},
   "outputs": [],
   "source": [
    "## in list comprehensions, it's choosing elements of A that are in B\n",
    "{l for l in letters if l in other_letters}"
   ]
  }
 ],
 "metadata": {
  "@webio": {
   "lastCommId": null,
   "lastKernelId": null
  },
  "kernelspec": {
   "display_name": "Python 3",
   "language": "python",
   "name": "python3"
  },
  "language_info": {
   "codemirror_mode": {
    "name": "ipython",
    "version": 3
   },
   "file_extension": ".py",
   "mimetype": "text/x-python",
   "name": "python",
   "nbconvert_exporter": "python",
   "pygments_lexer": "ipython3",
   "version": "3.8.8"
  }
 },
 "nbformat": 4,
 "nbformat_minor": 5
}
