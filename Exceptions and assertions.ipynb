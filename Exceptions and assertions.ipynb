{
 "cells": [
  {
   "cell_type": "markdown",
   "id": "04b47df9",
   "metadata": {},
   "source": [
    "## Try-except statements"
   ]
  },
  {
   "cell_type": "markdown",
   "id": "b0a69289",
   "metadata": {},
   "source": [
    "### Example 1"
   ]
  },
  {
   "cell_type": "code",
   "execution_count": 1,
   "id": "e4222212",
   "metadata": {},
   "outputs": [
    {
     "name": "stdout",
     "output_type": "stream",
     "text": [
      "didn't work\n"
     ]
    }
   ],
   "source": [
    "try:\n",
    "    a = 2 + \"text\"\n",
    "    print(a)\n",
    "except:\n",
    "    print(\"didn't work\")"
   ]
  },
  {
   "cell_type": "code",
   "execution_count": 2,
   "id": "f9c10b1a",
   "metadata": {},
   "outputs": [
    {
     "ename": "TypeError",
     "evalue": "unsupported operand type(s) for +: 'int' and 'str'",
     "output_type": "error",
     "traceback": [
      "\u001b[0;31m---------------------------------------------------------------------------\u001b[0m",
      "\u001b[0;31mTypeError\u001b[0m                                 Traceback (most recent call last)",
      "\u001b[0;32m<ipython-input-2-a5c7914270d5>\u001b[0m in \u001b[0;36m<module>\u001b[0;34m\u001b[0m\n\u001b[0;32m----> 1\u001b[0;31m \u001b[0ma\u001b[0m \u001b[0;34m=\u001b[0m \u001b[0;36m2\u001b[0m \u001b[0;34m+\u001b[0m \u001b[0;34m\"text\"\u001b[0m\u001b[0;34m\u001b[0m\u001b[0;34m\u001b[0m\u001b[0m\n\u001b[0m\u001b[1;32m      2\u001b[0m \u001b[0mprint\u001b[0m\u001b[0;34m(\u001b[0m\u001b[0ma\u001b[0m\u001b[0;34m)\u001b[0m\u001b[0;34m\u001b[0m\u001b[0;34m\u001b[0m\u001b[0m\n",
      "\u001b[0;31mTypeError\u001b[0m: unsupported operand type(s) for +: 'int' and 'str'"
     ]
    }
   ],
   "source": [
    "a = 2 + \"text\"\n",
    "print(a)"
   ]
  },
  {
   "cell_type": "markdown",
   "id": "079b0240",
   "metadata": {},
   "source": [
    "## Named and other errors"
   ]
  },
  {
   "cell_type": "markdown",
   "id": "0612111b",
   "metadata": {},
   "source": [
    "There are many types of exception in Python. Some of them are:\n",
    "- ArithmeticError\n",
    "- AssertionError\n",
    "- AttributeError\n",
    "- MemoryError\n",
    "- NameError\n",
    "- RuntimeError\n",
    "- SyntaxError\n",
    "- TypeError\n",
    "- ValueError\n",
    "etc."
   ]
  },
  {
   "cell_type": "markdown",
   "id": "b7432a42",
   "metadata": {},
   "source": [
    "### Example 2"
   ]
  },
  {
   "cell_type": "code",
   "execution_count": 3,
   "id": "a7644f5f",
   "metadata": {},
   "outputs": [
    {
     "name": "stdout",
     "output_type": "stream",
     "text": [
      "you didn't define the variable\n"
     ]
    }
   ],
   "source": [
    "try:\n",
    "    print(x)\n",
    "except NameError:\n",
    "    print(\"you didn't define the variable\")\n",
    "except TypeError:\n",
    "    print(\"you are using wrong type of variable\")\n",
    "except:\n",
    "    print(\"Not a NameError or TypeError, can be another named error but we don't know\")"
   ]
  },
  {
   "cell_type": "markdown",
   "id": "21019dbe",
   "metadata": {},
   "source": [
    "### Example 3"
   ]
  },
  {
   "cell_type": "code",
   "execution_count": 4,
   "id": "adef4953",
   "metadata": {},
   "outputs": [
    {
     "name": "stdout",
     "output_type": "stream",
     "text": [
      "you are using wrong type of variable\n"
     ]
    }
   ],
   "source": [
    "x = \"text\"\n",
    "try:\n",
    "    sum(x)\n",
    "except NameError:\n",
    "    print(\"you didn't define the variable\")\n",
    "except TypeError:\n",
    "    print(\"you are using wrong type of variable\")\n",
    "except:\n",
    "    print(\"Not a NameError or TypeError, can be another named error but we don't know\")"
   ]
  },
  {
   "cell_type": "markdown",
   "id": "1ab75d91",
   "metadata": {},
   "source": [
    "### Example 4"
   ]
  },
  {
   "cell_type": "code",
   "execution_count": 5,
   "id": "630cf9cb",
   "metadata": {},
   "outputs": [
    {
     "name": "stdout",
     "output_type": "stream",
     "text": [
      "\n",
      "Not a NameError or TypeError, can be another named error but we don't know\n"
     ]
    }
   ],
   "source": [
    "x = \"text\"\n",
    "try:\n",
    "    print().sum(x)\n",
    "except NameError:\n",
    "    print(\"you didn't define the variable\")\n",
    "except TypeError:\n",
    "    print(\"you are using wrong type of variable\")\n",
    "except:\n",
    "    print(\"Not a NameError or TypeError, can be another named error but we don't know\")"
   ]
  },
  {
   "cell_type": "markdown",
   "id": "70f26d81",
   "metadata": {},
   "source": [
    "## Try-else"
   ]
  },
  {
   "cell_type": "markdown",
   "id": "b937b244",
   "metadata": {},
   "source": [
    "### Example 5"
   ]
  },
  {
   "cell_type": "code",
   "execution_count": 6,
   "id": "efdeecb4",
   "metadata": {},
   "outputs": [
    {
     "name": "stdout",
     "output_type": "stream",
     "text": [
      "you got an error\n"
     ]
    }
   ],
   "source": [
    "x = \"text\"\n",
    "try:\n",
    "    sum(x)\n",
    "except:\n",
    "    print(\"you got an error\")\n",
    "else:\n",
    "    print(x*3)"
   ]
  },
  {
   "cell_type": "code",
   "execution_count": 7,
   "id": "a1598436",
   "metadata": {},
   "outputs": [
    {
     "name": "stdout",
     "output_type": "stream",
     "text": [
      "texttexttext\n"
     ]
    }
   ],
   "source": [
    "x = \"text\"\n",
    "try:\n",
    "    y = len(x)\n",
    "except:\n",
    "    print(\"you got an error\")\n",
    "else:\n",
    "    print(x*3)"
   ]
  },
  {
   "cell_type": "markdown",
   "id": "06b41fd9",
   "metadata": {},
   "source": [
    "## Try-finally"
   ]
  },
  {
   "cell_type": "markdown",
   "id": "7631dceb",
   "metadata": {},
   "source": [
    "### Example 6"
   ]
  },
  {
   "cell_type": "code",
   "execution_count": 8,
   "id": "e6ea3856",
   "metadata": {},
   "outputs": [
    {
     "name": "stdout",
     "output_type": "stream",
     "text": [
      "4\n",
      "6\n",
      "8\n",
      "you got an error\n",
      "[[2, 2], [3, 3], [4, 4], 'text']\n"
     ]
    }
   ],
   "source": [
    "lst = [[2, 2], [3, 3], [4, 4], \"text\"]\n",
    "try:\n",
    "    for i in lst:\n",
    "        print(sum(i))\n",
    "except:\n",
    "    print(\"you got an error\")\n",
    "finally:\n",
    "    print(lst)"
   ]
  },
  {
   "cell_type": "code",
   "execution_count": 9,
   "id": "5a57c879",
   "metadata": {},
   "outputs": [
    {
     "name": "stdout",
     "output_type": "stream",
     "text": [
      "4\n",
      "6\n",
      "8\n",
      "[[2, 2], [3, 3], [4, 4]]\n"
     ]
    }
   ],
   "source": [
    "lst = [[2, 2], [3, 3], [4, 4]]\n",
    "try:\n",
    "    for i in lst:\n",
    "        print(sum(i))\n",
    "except:\n",
    "    print(\"you got an error\")\n",
    "finally:\n",
    "    print(lst)"
   ]
  },
  {
   "cell_type": "markdown",
   "id": "9c4dde63",
   "metadata": {},
   "source": [
    "### Example 7"
   ]
  },
  {
   "cell_type": "code",
   "execution_count": 10,
   "id": "ffe88733",
   "metadata": {},
   "outputs": [
    {
     "name": "stdout",
     "output_type": "stream",
     "text": [
      "4\n",
      "6\n",
      "8\n",
      "you got an error\n"
     ]
    }
   ],
   "source": [
    "lst = [[2, 2], [3, 3], [4, 4], \"text\"]\n",
    "try:\n",
    "    for i in lst:\n",
    "        print(sum(i))\n",
    "except:\n",
    "    print(\"you got an error\")\n",
    "else:\n",
    "    print(lst)"
   ]
  },
  {
   "cell_type": "markdown",
   "id": "b81a0ee5",
   "metadata": {},
   "source": [
    "### Example 8"
   ]
  },
  {
   "cell_type": "code",
   "execution_count": null,
   "id": "0b12a6a7",
   "metadata": {},
   "outputs": [],
   "source": [
    "lst = [[2, 2], [3, 3], [4, 4], \"text\"]\n",
    "try:\n",
    "    for i in lst[:-1]:\n",
    "        print(sum(i))\n",
    "except:\n",
    "    print(\"you got an error\")\n",
    "else:\n",
    "    print(lst)"
   ]
  },
  {
   "cell_type": "markdown",
   "id": "b1d70071",
   "metadata": {},
   "source": [
    "## Assert"
   ]
  },
  {
   "cell_type": "markdown",
   "id": "f81eef10",
   "metadata": {},
   "source": [
    "### Example 9"
   ]
  },
  {
   "cell_type": "code",
   "execution_count": 11,
   "id": "1f1419d8",
   "metadata": {},
   "outputs": [
    {
     "ename": "AssertionError",
     "evalue": "x is not a string text",
     "output_type": "error",
     "traceback": [
      "\u001b[0;31m---------------------------------------------------------------------------\u001b[0m",
      "\u001b[0;31mAssertionError\u001b[0m                            Traceback (most recent call last)",
      "\u001b[0;32m<ipython-input-11-d68c6f840c95>\u001b[0m in \u001b[0;36m<module>\u001b[0;34m\u001b[0m\n\u001b[1;32m      1\u001b[0m \u001b[0ma\u001b[0m \u001b[0;34m=\u001b[0m \u001b[0;36m2\u001b[0m\u001b[0;34m\u001b[0m\u001b[0;34m\u001b[0m\u001b[0m\n\u001b[0;32m----> 2\u001b[0;31m \u001b[0;32massert\u001b[0m \u001b[0ma\u001b[0m \u001b[0;34m==\u001b[0m \u001b[0;34m\"text\"\u001b[0m\u001b[0;34m,\u001b[0m \u001b[0;34m\"x is not a string text\"\u001b[0m\u001b[0;34m\u001b[0m\u001b[0;34m\u001b[0m\u001b[0m\n\u001b[0m",
      "\u001b[0;31mAssertionError\u001b[0m: x is not a string text"
     ]
    }
   ],
   "source": [
    "a = 2\n",
    "assert a == \"text\", \"x is not a string text\""
   ]
  },
  {
   "cell_type": "markdown",
   "id": "583fd0ea",
   "metadata": {},
   "source": [
    "## Asserting type"
   ]
  },
  {
   "cell_type": "markdown",
   "id": "77e610be",
   "metadata": {},
   "source": [
    "### Example 10"
   ]
  },
  {
   "cell_type": "code",
   "execution_count": 12,
   "id": "2ce00ecb",
   "metadata": {},
   "outputs": [],
   "source": [
    "assert type(a) in (int, float), \"not a number\""
   ]
  },
  {
   "cell_type": "markdown",
   "id": "694613dd",
   "metadata": {},
   "source": [
    "### Example 11"
   ]
  },
  {
   "cell_type": "code",
   "execution_count": 13,
   "id": "d2e6c2a3",
   "metadata": {},
   "outputs": [
    {
     "ename": "AssertionError",
     "evalue": "not a number",
     "output_type": "error",
     "traceback": [
      "\u001b[0;31m---------------------------------------------------------------------------\u001b[0m",
      "\u001b[0;31mAssertionError\u001b[0m                            Traceback (most recent call last)",
      "\u001b[0;32m<ipython-input-13-5b6c62e19ee3>\u001b[0m in \u001b[0;36m<module>\u001b[0;34m\u001b[0m\n\u001b[1;32m      1\u001b[0m \u001b[0mb\u001b[0m \u001b[0;34m=\u001b[0m \u001b[0;34m\"text\"\u001b[0m\u001b[0;34m\u001b[0m\u001b[0;34m\u001b[0m\u001b[0m\n\u001b[0;32m----> 2\u001b[0;31m \u001b[0;32massert\u001b[0m \u001b[0mtype\u001b[0m\u001b[0;34m(\u001b[0m\u001b[0mb\u001b[0m\u001b[0;34m)\u001b[0m \u001b[0;32min\u001b[0m \u001b[0;34m(\u001b[0m\u001b[0mint\u001b[0m\u001b[0;34m,\u001b[0m \u001b[0mfloat\u001b[0m\u001b[0;34m)\u001b[0m\u001b[0;34m,\u001b[0m \u001b[0;34m\"not a number\"\u001b[0m\u001b[0;34m\u001b[0m\u001b[0;34m\u001b[0m\u001b[0m\n\u001b[0m",
      "\u001b[0;31mAssertionError\u001b[0m: not a number"
     ]
    }
   ],
   "source": [
    "b = \"text\"\n",
    "assert type(b) in (int, float), \"not a number\""
   ]
  },
  {
   "cell_type": "code",
   "execution_count": null,
   "id": "357bb34a",
   "metadata": {},
   "outputs": [],
   "source": []
  }
 ],
 "metadata": {
  "@webio": {
   "lastCommId": null,
   "lastKernelId": null
  },
  "kernelspec": {
   "display_name": "Python 3",
   "language": "python",
   "name": "python3"
  },
  "language_info": {
   "codemirror_mode": {
    "name": "ipython",
    "version": 3
   },
   "file_extension": ".py",
   "mimetype": "text/x-python",
   "name": "python",
   "nbconvert_exporter": "python",
   "pygments_lexer": "ipython3",
   "version": "3.8.8"
  }
 },
 "nbformat": 4,
 "nbformat_minor": 5
}
