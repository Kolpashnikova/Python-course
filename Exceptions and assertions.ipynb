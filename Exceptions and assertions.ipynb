{
 "cells": [
  {
   "cell_type": "markdown",
   "id": "04b47df9",
   "metadata": {},
   "source": [
    "## Try-except statements"
   ]
  },
  {
   "cell_type": "code",
   "execution_count": 1,
   "id": "e4222212",
   "metadata": {},
   "outputs": [
    {
     "name": "stdout",
     "output_type": "stream",
     "text": [
      "didn't work\n"
     ]
    }
   ],
   "source": [
    "try:\n",
    "    a = 2 + \"text\"\n",
    "    print(a)\n",
    "except:\n",
    "    print(\"didn't work\")"
   ]
  },
  {
   "cell_type": "code",
   "execution_count": 2,
   "id": "f9c10b1a",
   "metadata": {},
   "outputs": [
    {
     "ename": "TypeError",
     "evalue": "unsupported operand type(s) for +: 'int' and 'str'",
     "output_type": "error",
     "traceback": [
      "\u001b[0;31m---------------------------------------------------------------------------\u001b[0m",
      "\u001b[0;31mTypeError\u001b[0m                                 Traceback (most recent call last)",
      "\u001b[0;32m<ipython-input-2-a5c7914270d5>\u001b[0m in \u001b[0;36m<module>\u001b[0;34m\u001b[0m\n\u001b[0;32m----> 1\u001b[0;31m \u001b[0ma\u001b[0m \u001b[0;34m=\u001b[0m \u001b[0;36m2\u001b[0m \u001b[0;34m+\u001b[0m \u001b[0;34m\"text\"\u001b[0m\u001b[0;34m\u001b[0m\u001b[0;34m\u001b[0m\u001b[0m\n\u001b[0m\u001b[1;32m      2\u001b[0m \u001b[0mprint\u001b[0m\u001b[0;34m(\u001b[0m\u001b[0ma\u001b[0m\u001b[0;34m)\u001b[0m\u001b[0;34m\u001b[0m\u001b[0;34m\u001b[0m\u001b[0m\n",
      "\u001b[0;31mTypeError\u001b[0m: unsupported operand type(s) for +: 'int' and 'str'"
     ]
    }
   ],
   "source": [
    "a = 2 + \"text\"\n",
    "print(a)"
   ]
  },
  {
   "cell_type": "markdown",
   "id": "079b0240",
   "metadata": {},
   "source": [
    "## Named and other errors"
   ]
  },
  {
   "cell_type": "markdown",
   "id": "0612111b",
   "metadata": {},
   "source": [
    "There are many types of exception in Python. Some of them are:\n",
    "- ArithmeticError\n",
    "- AssertionError\n",
    "- AttributeError\n",
    "- MemoryError\n",
    "- NameError\n",
    "- RuntimeError\n",
    "- SyntaxError\n",
    "- TypeError\n",
    "- ValueError\n",
    "etc."
   ]
  },
  {
   "cell_type": "code",
   "execution_count": 3,
   "id": "a7644f5f",
   "metadata": {},
   "outputs": [
    {
     "name": "stdout",
     "output_type": "stream",
     "text": [
      "you didn't define the variable\n"
     ]
    }
   ],
   "source": [
    "try:\n",
    "    print(x)\n",
    "except NameError:\n",
    "    print(\"you didn't define the variable\")\n",
    "except TypeError:\n",
    "    print(\"you are using wrong type of variable\")\n",
    "except:\n",
    "    print(\"Not a NameError or TypeError, can be another named error but we don't know\")"
   ]
  },
  {
   "cell_type": "code",
   "execution_count": 4,
   "id": "adef4953",
   "metadata": {},
   "outputs": [
    {
     "name": "stdout",
     "output_type": "stream",
     "text": [
      "you are using wrong type of variable\n"
     ]
    }
   ],
   "source": [
    "x = \"text\"\n",
    "try:\n",
    "    sum(x)\n",
    "except NameError:\n",
    "    print(\"you didn't define the variable\")\n",
    "except TypeError:\n",
    "    print(\"you are using wrong type of variable\")\n",
    "except:\n",
    "    print(\"Not a NameError or TypeError, can be another named error but we don't know\")"
   ]
  },
  {
   "cell_type": "code",
   "execution_count": 5,
   "id": "630cf9cb",
   "metadata": {},
   "outputs": [
    {
     "name": "stdout",
     "output_type": "stream",
     "text": [
      "\n",
      "Not a NameError or TypeError, can be another named error but we don't know\n"
     ]
    }
   ],
   "source": [
    "x = \"text\"\n",
    "try:\n",
    "    print().sum(x)\n",
    "except NameError:\n",
    "    print(\"you didn't define the variable\")\n",
    "except TypeError:\n",
    "    print(\"you are using wrong type of variable\")\n",
    "except:\n",
    "    print(\"Not a NameError or TypeError, can be another named error but we don't know\")"
   ]
  },
  {
   "cell_type": "markdown",
   "id": "70f26d81",
   "metadata": {},
   "source": [
    "## Try-else"
   ]
  },
  {
   "cell_type": "code",
   "execution_count": 6,
   "id": "a1598436",
   "metadata": {},
   "outputs": [
    {
     "name": "stdout",
     "output_type": "stream",
     "text": [
      "text\n",
      "texttexttext\n"
     ]
    }
   ],
   "source": [
    "x = \"text\"\n",
    "try:\n",
    "    print(x)\n",
    "except:\n",
    "    print(\"you got an error\")\n",
    "else:\n",
    "    print(x*3)"
   ]
  },
  {
   "cell_type": "markdown",
   "id": "06b41fd9",
   "metadata": {},
   "source": [
    "## Try-finally"
   ]
  },
  {
   "cell_type": "code",
   "execution_count": 7,
   "id": "e6ea3856",
   "metadata": {},
   "outputs": [
    {
     "name": "stdout",
     "output_type": "stream",
     "text": [
      "4\n",
      "6\n",
      "8\n",
      "you got an error\n",
      "[[2, 2], [3, 3], [4, 4], 'text']\n"
     ]
    }
   ],
   "source": [
    "lst = [[2, 2], [3, 3], [4, 4], \"text\"]\n",
    "try:\n",
    "    for i in lst:\n",
    "        print(sum(i))\n",
    "except:\n",
    "    print(\"you got an error\")\n",
    "finally:\n",
    "    print(lst)"
   ]
  },
  {
   "cell_type": "code",
   "execution_count": 8,
   "id": "ffe88733",
   "metadata": {},
   "outputs": [
    {
     "name": "stdout",
     "output_type": "stream",
     "text": [
      "4\n",
      "6\n",
      "8\n",
      "you got an error\n"
     ]
    }
   ],
   "source": [
    "lst = [[2, 2], [3, 3], [4, 4], \"text\"]\n",
    "try:\n",
    "    for i in lst:\n",
    "        print(sum(i))\n",
    "except:\n",
    "    print(\"you got an error\")\n",
    "else:\n",
    "    print(lst)"
   ]
  },
  {
   "cell_type": "code",
   "execution_count": 9,
   "id": "0b12a6a7",
   "metadata": {},
   "outputs": [
    {
     "name": "stdout",
     "output_type": "stream",
     "text": [
      "4\n",
      "6\n",
      "8\n",
      "[[2, 2], [3, 3], [4, 4], 'text']\n"
     ]
    }
   ],
   "source": [
    "lst = [[2, 2], [3, 3], [4, 4], \"text\"]\n",
    "try:\n",
    "    for i in lst[:-1]:\n",
    "        print(sum(i))\n",
    "except:\n",
    "    print(\"you got an error\")\n",
    "else:\n",
    "    print(lst)"
   ]
  },
  {
   "cell_type": "markdown",
   "id": "5c871e3d",
   "metadata": {},
   "source": [
    "## Raise"
   ]
  },
  {
   "cell_type": "code",
   "execution_count": 10,
   "id": "650a02ed",
   "metadata": {},
   "outputs": [
    {
     "ename": "TypeError",
     "evalue": "unsupported operand type(s) for +: 'int' and 'str'",
     "output_type": "error",
     "traceback": [
      "\u001b[0;31m---------------------------------------------------------------------------\u001b[0m",
      "\u001b[0;31mTypeError\u001b[0m                                 Traceback (most recent call last)",
      "\u001b[0;32m<ipython-input-10-cb77abe9b0bb>\u001b[0m in \u001b[0;36m<module>\u001b[0;34m\u001b[0m\n\u001b[1;32m      1\u001b[0m \u001b[0;32mtry\u001b[0m\u001b[0;34m:\u001b[0m\u001b[0;34m\u001b[0m\u001b[0;34m\u001b[0m\u001b[0m\n\u001b[0;32m----> 2\u001b[0;31m     \u001b[0ma\u001b[0m \u001b[0;34m=\u001b[0m \u001b[0;36m2\u001b[0m \u001b[0;34m+\u001b[0m \u001b[0;34m\"text\"\u001b[0m\u001b[0;34m\u001b[0m\u001b[0;34m\u001b[0m\u001b[0m\n\u001b[0m\u001b[1;32m      3\u001b[0m     \u001b[0mprint\u001b[0m\u001b[0;34m(\u001b[0m\u001b[0ma\u001b[0m\u001b[0;34m)\u001b[0m\u001b[0;34m\u001b[0m\u001b[0;34m\u001b[0m\u001b[0m\n\u001b[1;32m      4\u001b[0m \u001b[0;32mexcept\u001b[0m\u001b[0;34m:\u001b[0m\u001b[0;34m\u001b[0m\u001b[0;34m\u001b[0m\u001b[0m\n\u001b[1;32m      5\u001b[0m     \u001b[0;32mraise\u001b[0m\u001b[0;34m\u001b[0m\u001b[0;34m\u001b[0m\u001b[0m\n",
      "\u001b[0;31mTypeError\u001b[0m: unsupported operand type(s) for +: 'int' and 'str'"
     ]
    }
   ],
   "source": [
    "try:\n",
    "    a = 2 + \"text\"\n",
    "    print(a)\n",
    "except:\n",
    "    raise"
   ]
  },
  {
   "cell_type": "markdown",
   "id": "3b705edc",
   "metadata": {},
   "source": [
    "## Customized error messages with raise"
   ]
  },
  {
   "cell_type": "code",
   "execution_count": 11,
   "id": "14fe0060",
   "metadata": {},
   "outputs": [
    {
     "ename": "TypeError",
     "evalue": "you are using an integer",
     "output_type": "error",
     "traceback": [
      "\u001b[0;31m---------------------------------------------------------------------------\u001b[0m",
      "\u001b[0;31mTypeError\u001b[0m                                 Traceback (most recent call last)",
      "\u001b[0;32m<ipython-input-11-35fbbde25476>\u001b[0m in \u001b[0;36m<module>\u001b[0;34m\u001b[0m\n\u001b[1;32m      1\u001b[0m \u001b[0ma\u001b[0m \u001b[0;34m=\u001b[0m \u001b[0;36m2\u001b[0m\u001b[0;34m\u001b[0m\u001b[0;34m\u001b[0m\u001b[0m\n\u001b[1;32m      2\u001b[0m \u001b[0;32mif\u001b[0m \u001b[0misinstance\u001b[0m\u001b[0;34m(\u001b[0m\u001b[0ma\u001b[0m\u001b[0;34m,\u001b[0m \u001b[0mint\u001b[0m\u001b[0;34m)\u001b[0m\u001b[0;34m:\u001b[0m\u001b[0;34m\u001b[0m\u001b[0;34m\u001b[0m\u001b[0m\n\u001b[0;32m----> 3\u001b[0;31m     \u001b[0;32mraise\u001b[0m \u001b[0mTypeError\u001b[0m\u001b[0;34m(\u001b[0m\u001b[0;34m\"you are using an integer\"\u001b[0m\u001b[0;34m)\u001b[0m\u001b[0;34m\u001b[0m\u001b[0;34m\u001b[0m\u001b[0m\n\u001b[0m",
      "\u001b[0;31mTypeError\u001b[0m: you are using an integer"
     ]
    }
   ],
   "source": [
    "a = 2\n",
    "if isinstance(a, int):\n",
    "    raise TypeError(\"you are using an integer\")"
   ]
  },
  {
   "cell_type": "code",
   "execution_count": 12,
   "id": "247f89b1",
   "metadata": {},
   "outputs": [
    {
     "ename": "Exception",
     "evalue": "the number cannot be above zero",
     "output_type": "error",
     "traceback": [
      "\u001b[0;31m---------------------------------------------------------------------------\u001b[0m",
      "\u001b[0;31mException\u001b[0m                                 Traceback (most recent call last)",
      "\u001b[0;32m<ipython-input-12-582d4809aa93>\u001b[0m in \u001b[0;36m<module>\u001b[0;34m\u001b[0m\n\u001b[1;32m      1\u001b[0m \u001b[0;32mif\u001b[0m \u001b[0ma\u001b[0m \u001b[0;34m>\u001b[0m \u001b[0;36m0\u001b[0m\u001b[0;34m:\u001b[0m\u001b[0;34m\u001b[0m\u001b[0;34m\u001b[0m\u001b[0m\n\u001b[0;32m----> 2\u001b[0;31m     \u001b[0;32mraise\u001b[0m \u001b[0mException\u001b[0m\u001b[0;34m(\u001b[0m\u001b[0;34m\"the number cannot be above zero\"\u001b[0m\u001b[0;34m)\u001b[0m\u001b[0;34m\u001b[0m\u001b[0;34m\u001b[0m\u001b[0m\n\u001b[0m",
      "\u001b[0;31mException\u001b[0m: the number cannot be above zero"
     ]
    }
   ],
   "source": [
    "if a > 0:\n",
    "    raise Exception(\"the number cannot be above zero\")"
   ]
  },
  {
   "cell_type": "markdown",
   "id": "b1d70071",
   "metadata": {},
   "source": [
    "## Assert"
   ]
  },
  {
   "cell_type": "code",
   "execution_count": 13,
   "id": "1f1419d8",
   "metadata": {},
   "outputs": [
    {
     "ename": "AssertionError",
     "evalue": "x is not a string text",
     "output_type": "error",
     "traceback": [
      "\u001b[0;31m---------------------------------------------------------------------------\u001b[0m",
      "\u001b[0;31mAssertionError\u001b[0m                            Traceback (most recent call last)",
      "\u001b[0;32m<ipython-input-13-bf6b82f56820>\u001b[0m in \u001b[0;36m<module>\u001b[0;34m\u001b[0m\n\u001b[0;32m----> 1\u001b[0;31m \u001b[0;32massert\u001b[0m \u001b[0ma\u001b[0m \u001b[0;34m==\u001b[0m \u001b[0;34m\"text\"\u001b[0m\u001b[0;34m,\u001b[0m \u001b[0;34m\"x is not a string text\"\u001b[0m\u001b[0;34m\u001b[0m\u001b[0;34m\u001b[0m\u001b[0m\n\u001b[0m",
      "\u001b[0;31mAssertionError\u001b[0m: x is not a string text"
     ]
    }
   ],
   "source": [
    "assert a == \"text\", \"x is not a string text\""
   ]
  },
  {
   "cell_type": "markdown",
   "id": "583fd0ea",
   "metadata": {},
   "source": [
    "## Asserting type"
   ]
  },
  {
   "cell_type": "code",
   "execution_count": 14,
   "id": "2ce00ecb",
   "metadata": {},
   "outputs": [],
   "source": [
    "assert type(a) in (int, float), \"not a number\""
   ]
  },
  {
   "cell_type": "code",
   "execution_count": 15,
   "id": "d2e6c2a3",
   "metadata": {},
   "outputs": [
    {
     "ename": "AssertionError",
     "evalue": "not a number",
     "output_type": "error",
     "traceback": [
      "\u001b[0;31m---------------------------------------------------------------------------\u001b[0m",
      "\u001b[0;31mAssertionError\u001b[0m                            Traceback (most recent call last)",
      "\u001b[0;32m<ipython-input-15-5b6c62e19ee3>\u001b[0m in \u001b[0;36m<module>\u001b[0;34m\u001b[0m\n\u001b[1;32m      1\u001b[0m \u001b[0mb\u001b[0m \u001b[0;34m=\u001b[0m \u001b[0;34m\"text\"\u001b[0m\u001b[0;34m\u001b[0m\u001b[0;34m\u001b[0m\u001b[0m\n\u001b[0;32m----> 2\u001b[0;31m \u001b[0;32massert\u001b[0m \u001b[0mtype\u001b[0m\u001b[0;34m(\u001b[0m\u001b[0mb\u001b[0m\u001b[0;34m)\u001b[0m \u001b[0;32min\u001b[0m \u001b[0;34m(\u001b[0m\u001b[0mint\u001b[0m\u001b[0;34m,\u001b[0m \u001b[0mfloat\u001b[0m\u001b[0;34m)\u001b[0m\u001b[0;34m,\u001b[0m \u001b[0;34m\"not a number\"\u001b[0m\u001b[0;34m\u001b[0m\u001b[0;34m\u001b[0m\u001b[0m\n\u001b[0m",
      "\u001b[0;31mAssertionError\u001b[0m: not a number"
     ]
    }
   ],
   "source": [
    "b = \"text\"\n",
    "assert type(b) in (int, float), \"not a number\""
   ]
  }
 ],
 "metadata": {
  "@webio": {
   "lastCommId": null,
   "lastKernelId": null
  },
  "kernelspec": {
   "display_name": "Python 3",
   "language": "python",
   "name": "python3"
  },
  "language_info": {
   "codemirror_mode": {
    "name": "ipython",
    "version": 3
   },
   "file_extension": ".py",
   "mimetype": "text/x-python",
   "name": "python",
   "nbconvert_exporter": "python",
   "pygments_lexer": "ipython3",
   "version": "3.8.8"
  }
 },
 "nbformat": 4,
 "nbformat_minor": 5
}
