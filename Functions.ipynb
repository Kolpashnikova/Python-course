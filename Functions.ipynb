{
 "cells": [
  {
   "cell_type": "markdown",
   "id": "f9a0bff4",
   "metadata": {},
   "source": [
    "# Printing out"
   ]
  },
  {
   "cell_type": "markdown",
   "id": "25c1919e",
   "metadata": {},
   "source": [
    "## Example 1"
   ]
  },
  {
   "cell_type": "code",
   "execution_count": 1,
   "id": "df8ec734",
   "metadata": {},
   "outputs": [
    {
     "name": "stdout",
     "output_type": "stream",
     "text": [
      "The average is: 2.5\n"
     ]
    }
   ],
   "source": [
    "def calc_mean(a, b):\n",
    "    avg = (a + b)/2\n",
    "    print(\"The average is: {}\".format(avg))\n",
    "\n",
    "calc_mean(2, 3)"
   ]
  },
  {
   "cell_type": "markdown",
   "id": "1243f19a",
   "metadata": {},
   "source": [
    "## Example 2"
   ]
  },
  {
   "cell_type": "code",
   "execution_count": 2,
   "id": "2ad2f947",
   "metadata": {},
   "outputs": [
    {
     "name": "stdout",
     "output_type": "stream",
     "text": [
      "The average is: 3.8333333333333335\n"
     ]
    }
   ],
   "source": [
    "def calc_mean(a, b, c):\n",
    "    assert type(c) == list, \"c should be a list\"\n",
    "    avg = (a + b + sum(c))/(2 + len(c))\n",
    "    print(\"The average is: {}\".format(avg))\n",
    "\n",
    "calc_mean(2, 3, [3, 4, 5, 6])"
   ]
  },
  {
   "cell_type": "code",
   "execution_count": 3,
   "id": "e79acf43",
   "metadata": {},
   "outputs": [
    {
     "ename": "AssertionError",
     "evalue": "c should be a list",
     "output_type": "error",
     "traceback": [
      "\u001b[0;31m---------------------------------------------------------------------------\u001b[0m",
      "\u001b[0;31mAssertionError\u001b[0m                            Traceback (most recent call last)",
      "\u001b[0;32m<ipython-input-3-9b22380fef31>\u001b[0m in \u001b[0;36m<module>\u001b[0;34m\u001b[0m\n\u001b[0;32m----> 1\u001b[0;31m \u001b[0mcalc_mean\u001b[0m\u001b[0;34m(\u001b[0m\u001b[0;36m2\u001b[0m\u001b[0;34m,\u001b[0m \u001b[0;36m3\u001b[0m\u001b[0;34m,\u001b[0m \u001b[0;36m4\u001b[0m\u001b[0;34m)\u001b[0m\u001b[0;34m\u001b[0m\u001b[0;34m\u001b[0m\u001b[0m\n\u001b[0m",
      "\u001b[0;32m<ipython-input-2-4ce20d64b9f8>\u001b[0m in \u001b[0;36mcalc_mean\u001b[0;34m(a, b, c)\u001b[0m\n\u001b[1;32m      1\u001b[0m \u001b[0;32mdef\u001b[0m \u001b[0mcalc_mean\u001b[0m\u001b[0;34m(\u001b[0m\u001b[0ma\u001b[0m\u001b[0;34m,\u001b[0m \u001b[0mb\u001b[0m\u001b[0;34m,\u001b[0m \u001b[0mc\u001b[0m\u001b[0;34m)\u001b[0m\u001b[0;34m:\u001b[0m\u001b[0;34m\u001b[0m\u001b[0;34m\u001b[0m\u001b[0m\n\u001b[0;32m----> 2\u001b[0;31m     \u001b[0;32massert\u001b[0m \u001b[0mtype\u001b[0m\u001b[0;34m(\u001b[0m\u001b[0mc\u001b[0m\u001b[0;34m)\u001b[0m \u001b[0;34m==\u001b[0m \u001b[0mlist\u001b[0m\u001b[0;34m,\u001b[0m \u001b[0;34m\"c should be a list\"\u001b[0m\u001b[0;34m\u001b[0m\u001b[0;34m\u001b[0m\u001b[0m\n\u001b[0m\u001b[1;32m      3\u001b[0m     \u001b[0mavg\u001b[0m \u001b[0;34m=\u001b[0m \u001b[0;34m(\u001b[0m\u001b[0ma\u001b[0m \u001b[0;34m+\u001b[0m \u001b[0mb\u001b[0m \u001b[0;34m+\u001b[0m \u001b[0msum\u001b[0m\u001b[0;34m(\u001b[0m\u001b[0mc\u001b[0m\u001b[0;34m)\u001b[0m\u001b[0;34m)\u001b[0m\u001b[0;34m/\u001b[0m\u001b[0;34m(\u001b[0m\u001b[0;36m2\u001b[0m \u001b[0;34m+\u001b[0m \u001b[0mlen\u001b[0m\u001b[0;34m(\u001b[0m\u001b[0mc\u001b[0m\u001b[0;34m)\u001b[0m\u001b[0;34m)\u001b[0m\u001b[0;34m\u001b[0m\u001b[0;34m\u001b[0m\u001b[0m\n\u001b[1;32m      4\u001b[0m     \u001b[0mprint\u001b[0m\u001b[0;34m(\u001b[0m\u001b[0;34m\"The average is: {}\"\u001b[0m\u001b[0;34m.\u001b[0m\u001b[0mformat\u001b[0m\u001b[0;34m(\u001b[0m\u001b[0mavg\u001b[0m\u001b[0;34m)\u001b[0m\u001b[0;34m)\u001b[0m\u001b[0;34m\u001b[0m\u001b[0;34m\u001b[0m\u001b[0m\n\u001b[1;32m      5\u001b[0m \u001b[0;34m\u001b[0m\u001b[0m\n",
      "\u001b[0;31mAssertionError\u001b[0m: c should be a list"
     ]
    }
   ],
   "source": [
    "calc_mean(2, 3, 4)"
   ]
  },
  {
   "cell_type": "markdown",
   "id": "62aeb299",
   "metadata": {},
   "source": [
    "## Example 3"
   ]
  },
  {
   "cell_type": "code",
   "execution_count": 4,
   "id": "82b26dec",
   "metadata": {},
   "outputs": [],
   "source": [
    "import numpy as np"
   ]
  },
  {
   "cell_type": "code",
   "execution_count": 5,
   "id": "2fcfd133",
   "metadata": {},
   "outputs": [],
   "source": [
    "def describe_vars(a, b, c):\n",
    "    assert type(a) == dict, \"a should be a dictionary\"\n",
    "    assert type(b) == dict, \"b should be a dictionary\"\n",
    "    assert type(c) == dict, \"c should be a dictionary\"\n",
    "    print(\"==============================================\")\n",
    "    print(\"|--------- Descriptive Statistics -----------|\")\n",
    "    print(\"==============================================\")\n",
    "    print(\"| Name             |      Mean  |         SD |\")\n",
    "    print(\"----------------------------------------------\")\n",
    "    for i in (a, b, c):\n",
    "        name = i[\"name\"] \n",
    "        str1 = \" \" * (16 - len(str(name)))\n",
    "        m = round(np.mean(i[\"values\"]), 2)        \n",
    "        str2 = \" \"* (10 - len(str(m)))\n",
    "        s = round(np.std(i[\"values\"]), 2)\n",
    "        str3 = \" \" * (10 - len(str(s)))\n",
    "        print(\"| {} {}|{} {} |{} {} |\".format(name, str1, str2, m, str3, s))\n",
    "    print(\"==============================================\")"
   ]
  },
  {
   "cell_type": "code",
   "execution_count": 6,
   "id": "0425d2ef",
   "metadata": {},
   "outputs": [
    {
     "name": "stdout",
     "output_type": "stream",
     "text": [
      "==============================================\n",
      "|--------- Descriptive Statistics -----------|\n",
      "==============================================\n",
      "| Name             |      Mean  |         SD |\n",
      "----------------------------------------------\n",
      "| var1             |   244858.6 |  301183.53 |\n",
      "| var2             |       7.33 |       1.49 |\n",
      "| var3             |       22.2 |      11.72 |\n",
      "==============================================\n"
     ]
    }
   ],
   "source": [
    "a = {\"name\": \"var1\", \"values\": [2, 3, 45, 656567,567676]}\n",
    "b = {\"name\": \"var2\", \"values\": [5, 6, 7, 8, 9, 9]}\n",
    "c = {\"name\": \"var3\", \"values\": [10, 23, 43, 12, 23]}\n",
    "\n",
    "describe_vars(a, b, c)"
   ]
  },
  {
   "cell_type": "markdown",
   "id": "c77c1762",
   "metadata": {},
   "source": [
    "# Return "
   ]
  },
  {
   "cell_type": "markdown",
   "id": "23d552a3",
   "metadata": {},
   "source": [
    "## Example 4"
   ]
  },
  {
   "cell_type": "code",
   "execution_count": 7,
   "id": "991cbd32",
   "metadata": {},
   "outputs": [],
   "source": [
    "def calc_avg(a):\n",
    "    try:\n",
    "        return np.mean(a)\n",
    "    except:\n",
    "        print(\"Your argument has to be a list\")"
   ]
  },
  {
   "cell_type": "code",
   "execution_count": 8,
   "id": "0373596c",
   "metadata": {},
   "outputs": [
    {
     "data": {
      "text/plain": [
       "8.25"
      ]
     },
     "execution_count": 8,
     "metadata": {},
     "output_type": "execute_result"
    }
   ],
   "source": [
    "calc_avg([1, 23, 4, 5])"
   ]
  },
  {
   "cell_type": "code",
   "execution_count": 9,
   "id": "fb1afe4c",
   "metadata": {},
   "outputs": [
    {
     "name": "stdout",
     "output_type": "stream",
     "text": [
      "Your argument has to be a list\n"
     ]
    }
   ],
   "source": [
    "calc_avg(\"sdkfgdfhg\")"
   ]
  },
  {
   "cell_type": "markdown",
   "id": "2d494c78",
   "metadata": {},
   "source": [
    "# Returning multiple variables"
   ]
  },
  {
   "cell_type": "markdown",
   "id": "e0ab0081",
   "metadata": {},
   "source": [
    "## Example 5"
   ]
  },
  {
   "cell_type": "code",
   "execution_count": 10,
   "id": "404e2fcf",
   "metadata": {},
   "outputs": [],
   "source": [
    "def desc(a):\n",
    "    ## specifying ddof as 1 in np.std gives sample SD\n",
    "    return [np.mean(a), np.std(a, ddof=1), a]"
   ]
  },
  {
   "cell_type": "code",
   "execution_count": 11,
   "id": "45b16098",
   "metadata": {},
   "outputs": [
    {
     "data": {
      "text/plain": [
       "[8.25, 9.97914491994847, [1, 23, 4, 5]]"
      ]
     },
     "execution_count": 11,
     "metadata": {},
     "output_type": "execute_result"
    }
   ],
   "source": [
    "desc([1, 23, 4, 5])"
   ]
  },
  {
   "cell_type": "code",
   "execution_count": 12,
   "id": "096a0ca1",
   "metadata": {},
   "outputs": [
    {
     "ename": "TypeError",
     "evalue": "cannot perform reduce with flexible type",
     "output_type": "error",
     "traceback": [
      "\u001b[0;31m---------------------------------------------------------------------------\u001b[0m",
      "\u001b[0;31mTypeError\u001b[0m                                 Traceback (most recent call last)",
      "\u001b[0;32m<ipython-input-12-5f89c3e0d09f>\u001b[0m in \u001b[0;36m<module>\u001b[0;34m\u001b[0m\n\u001b[0;32m----> 1\u001b[0;31m \u001b[0mdesc\u001b[0m\u001b[0;34m(\u001b[0m\u001b[0;34m\"sdkfgdfhg\"\u001b[0m\u001b[0;34m)\u001b[0m\u001b[0;34m\u001b[0m\u001b[0;34m\u001b[0m\u001b[0m\n\u001b[0m",
      "\u001b[0;32m<ipython-input-10-2ed77e9d5869>\u001b[0m in \u001b[0;36mdesc\u001b[0;34m(a)\u001b[0m\n\u001b[1;32m      1\u001b[0m \u001b[0;32mdef\u001b[0m \u001b[0mdesc\u001b[0m\u001b[0;34m(\u001b[0m\u001b[0ma\u001b[0m\u001b[0;34m)\u001b[0m\u001b[0;34m:\u001b[0m\u001b[0;34m\u001b[0m\u001b[0;34m\u001b[0m\u001b[0m\n\u001b[1;32m      2\u001b[0m     \u001b[0;31m## specifying ddof as 1 in np.std gives sample SD\u001b[0m\u001b[0;34m\u001b[0m\u001b[0;34m\u001b[0m\u001b[0;34m\u001b[0m\u001b[0m\n\u001b[0;32m----> 3\u001b[0;31m     \u001b[0;32mreturn\u001b[0m \u001b[0;34m[\u001b[0m\u001b[0mnp\u001b[0m\u001b[0;34m.\u001b[0m\u001b[0mmean\u001b[0m\u001b[0;34m(\u001b[0m\u001b[0ma\u001b[0m\u001b[0;34m)\u001b[0m\u001b[0;34m,\u001b[0m \u001b[0mnp\u001b[0m\u001b[0;34m.\u001b[0m\u001b[0mstd\u001b[0m\u001b[0;34m(\u001b[0m\u001b[0ma\u001b[0m\u001b[0;34m,\u001b[0m \u001b[0mddof\u001b[0m\u001b[0;34m=\u001b[0m\u001b[0;36m1\u001b[0m\u001b[0;34m)\u001b[0m\u001b[0;34m,\u001b[0m \u001b[0ma\u001b[0m\u001b[0;34m]\u001b[0m\u001b[0;34m\u001b[0m\u001b[0;34m\u001b[0m\u001b[0m\n\u001b[0m",
      "\u001b[0;32m<__array_function__ internals>\u001b[0m in \u001b[0;36mmean\u001b[0;34m(*args, **kwargs)\u001b[0m\n",
      "\u001b[0;32m~/opt/anaconda3/lib/python3.8/site-packages/numpy/core/fromnumeric.py\u001b[0m in \u001b[0;36mmean\u001b[0;34m(a, axis, dtype, out, keepdims, where)\u001b[0m\n\u001b[1;32m   3417\u001b[0m             \u001b[0;32mreturn\u001b[0m \u001b[0mmean\u001b[0m\u001b[0;34m(\u001b[0m\u001b[0maxis\u001b[0m\u001b[0;34m=\u001b[0m\u001b[0maxis\u001b[0m\u001b[0;34m,\u001b[0m \u001b[0mdtype\u001b[0m\u001b[0;34m=\u001b[0m\u001b[0mdtype\u001b[0m\u001b[0;34m,\u001b[0m \u001b[0mout\u001b[0m\u001b[0;34m=\u001b[0m\u001b[0mout\u001b[0m\u001b[0;34m,\u001b[0m \u001b[0;34m**\u001b[0m\u001b[0mkwargs\u001b[0m\u001b[0;34m)\u001b[0m\u001b[0;34m\u001b[0m\u001b[0;34m\u001b[0m\u001b[0m\n\u001b[1;32m   3418\u001b[0m \u001b[0;34m\u001b[0m\u001b[0m\n\u001b[0;32m-> 3419\u001b[0;31m     return _methods._mean(a, axis=axis, dtype=dtype,\n\u001b[0m\u001b[1;32m   3420\u001b[0m                           out=out, **kwargs)\n\u001b[1;32m   3421\u001b[0m \u001b[0;34m\u001b[0m\u001b[0m\n",
      "\u001b[0;32m~/opt/anaconda3/lib/python3.8/site-packages/numpy/core/_methods.py\u001b[0m in \u001b[0;36m_mean\u001b[0;34m(a, axis, dtype, out, keepdims, where)\u001b[0m\n\u001b[1;32m    176\u001b[0m             \u001b[0mis_float16_result\u001b[0m \u001b[0;34m=\u001b[0m \u001b[0;32mTrue\u001b[0m\u001b[0;34m\u001b[0m\u001b[0;34m\u001b[0m\u001b[0m\n\u001b[1;32m    177\u001b[0m \u001b[0;34m\u001b[0m\u001b[0m\n\u001b[0;32m--> 178\u001b[0;31m     \u001b[0mret\u001b[0m \u001b[0;34m=\u001b[0m \u001b[0mumr_sum\u001b[0m\u001b[0;34m(\u001b[0m\u001b[0marr\u001b[0m\u001b[0;34m,\u001b[0m \u001b[0maxis\u001b[0m\u001b[0;34m,\u001b[0m \u001b[0mdtype\u001b[0m\u001b[0;34m,\u001b[0m \u001b[0mout\u001b[0m\u001b[0;34m,\u001b[0m \u001b[0mkeepdims\u001b[0m\u001b[0;34m,\u001b[0m \u001b[0mwhere\u001b[0m\u001b[0;34m=\u001b[0m\u001b[0mwhere\u001b[0m\u001b[0;34m)\u001b[0m\u001b[0;34m\u001b[0m\u001b[0;34m\u001b[0m\u001b[0m\n\u001b[0m\u001b[1;32m    179\u001b[0m     \u001b[0;32mif\u001b[0m \u001b[0misinstance\u001b[0m\u001b[0;34m(\u001b[0m\u001b[0mret\u001b[0m\u001b[0;34m,\u001b[0m \u001b[0mmu\u001b[0m\u001b[0;34m.\u001b[0m\u001b[0mndarray\u001b[0m\u001b[0;34m)\u001b[0m\u001b[0;34m:\u001b[0m\u001b[0;34m\u001b[0m\u001b[0;34m\u001b[0m\u001b[0m\n\u001b[1;32m    180\u001b[0m         ret = um.true_divide(\n",
      "\u001b[0;31mTypeError\u001b[0m: cannot perform reduce with flexible type"
     ]
    }
   ],
   "source": [
    "desc(\"sdkfgdfhg\")"
   ]
  },
  {
   "cell_type": "markdown",
   "id": "03be83f6",
   "metadata": {},
   "source": [
    "## Example 6"
   ]
  },
  {
   "cell_type": "code",
   "execution_count": 13,
   "id": "5eab7f9d",
   "metadata": {},
   "outputs": [
    {
     "data": {
      "text/plain": [
       "{'mean': 8.25, 'SD': 8.642193008721803, 'List': [1, 23, 4, 5]}"
      ]
     },
     "execution_count": 13,
     "metadata": {},
     "output_type": "execute_result"
    }
   ],
   "source": [
    "def desc(a):\n",
    "    try:\n",
    "        return {\"mean\": np.mean(a), \"SD\": np.std(a), \"List\": a}\n",
    "    except:\n",
    "        print(\"Your argument needs to be a list\")\n",
    "\n",
    "desc([1, 23, 4, 5])"
   ]
  },
  {
   "cell_type": "code",
   "execution_count": 14,
   "id": "e2154749",
   "metadata": {},
   "outputs": [
    {
     "name": "stdout",
     "output_type": "stream",
     "text": [
      "Your argument needs to be a list\n"
     ]
    }
   ],
   "source": [
    "desc(\"sdkfgdfhg\")"
   ]
  },
  {
   "cell_type": "markdown",
   "id": "68d35178",
   "metadata": {},
   "source": [
    "# Using default arguments in functions"
   ]
  },
  {
   "cell_type": "markdown",
   "id": "6f5b2762",
   "metadata": {},
   "source": [
    "## Example 7"
   ]
  },
  {
   "cell_type": "code",
   "execution_count": 15,
   "id": "f08a5773",
   "metadata": {},
   "outputs": [],
   "source": [
    "def calc_a(a, b, c=10, d=12, apple=3):\n",
    "    if a + b > (c + d)/apple:\n",
    "        return True\n",
    "    else:\n",
    "        return False"
   ]
  },
  {
   "cell_type": "code",
   "execution_count": 16,
   "id": "c3ad4e8a",
   "metadata": {},
   "outputs": [
    {
     "data": {
      "text/plain": [
       "False"
      ]
     },
     "execution_count": 16,
     "metadata": {},
     "output_type": "execute_result"
    }
   ],
   "source": [
    "calc_a(2, 3)"
   ]
  },
  {
   "cell_type": "code",
   "execution_count": 17,
   "id": "77962a3d",
   "metadata": {},
   "outputs": [
    {
     "data": {
      "text/plain": [
       "True"
      ]
     },
     "execution_count": 17,
     "metadata": {},
     "output_type": "execute_result"
    }
   ],
   "source": [
    "calc_a(23, 4)"
   ]
  },
  {
   "cell_type": "code",
   "execution_count": 18,
   "id": "534ce562",
   "metadata": {},
   "outputs": [
    {
     "data": {
      "text/plain": [
       "False"
      ]
     },
     "execution_count": 18,
     "metadata": {},
     "output_type": "execute_result"
    }
   ],
   "source": [
    "calc_a(23, 4, d=234)"
   ]
  },
  {
   "cell_type": "code",
   "execution_count": 19,
   "id": "98c25c21",
   "metadata": {},
   "outputs": [
    {
     "data": {
      "text/plain": [
       "False"
      ]
     },
     "execution_count": 19,
     "metadata": {},
     "output_type": "execute_result"
    }
   ],
   "source": [
    "calc_a(3, 4, apple=1)"
   ]
  },
  {
   "cell_type": "markdown",
   "id": "afced68e",
   "metadata": {},
   "source": [
    "# Documenting functions"
   ]
  },
  {
   "cell_type": "markdown",
   "id": "d49973d7",
   "metadata": {},
   "source": [
    "## Example 8"
   ]
  },
  {
   "cell_type": "code",
   "execution_count": 20,
   "id": "b15ac52d",
   "metadata": {},
   "outputs": [],
   "source": [
    "def describe_vars(a: dict, b: dict, c: dict):\n",
    "    \"\"\" Prints out means and standard deviations of arguments\n",
    "    \n",
    "    Parameters\n",
    "    ---------------\n",
    "    a: dict\n",
    "        A dictionary with keys 'name' and 'values'\n",
    "    b: dict\n",
    "        A dictionary with keys 'name' and 'values'\n",
    "    c: dict\n",
    "        A dictionary with keys 'name' and 'values'\n",
    "        \n",
    "    Returns\n",
    "    ---------------\n",
    "        Prints out a descriptive table with means and SD\n",
    "    \"\"\"\n",
    "    \n",
    "    assert type(a) == dict, \"a should be a dictionary\"\n",
    "    assert type(b) == dict, \"b should be a dictionary\"\n",
    "    assert type(c) == dict, \"c should be a dictionary\"\n",
    "    print(\"==============================================\")\n",
    "    print(\"|--------- Descriptive Statistics -----------|\")\n",
    "    print(\"==============================================\")\n",
    "    print(\"| Name             |      Mean  |         SD |\")\n",
    "    print(\"----------------------------------------------\")\n",
    "    for i in (a, b, c):\n",
    "        name = i[\"name\"] \n",
    "        str1 = \" \" * (16 - len(str(name)))\n",
    "        m = round(np.mean(i[\"values\"]), 2)        \n",
    "        str2 = \" \"* (10 - len(str(m)))\n",
    "        s = round(np.std(i[\"values\"]), 2)\n",
    "        str3 = \" \" * (10 - len(str(s)))\n",
    "        print(\"| {} {}|{} {} |{} {} |\".format(name, str1, str2, m, str3, s))\n",
    "    print(\"==============================================\")"
   ]
  },
  {
   "cell_type": "code",
   "execution_count": 21,
   "id": "22050fdd",
   "metadata": {},
   "outputs": [],
   "source": [
    "?describe_vars"
   ]
  },
  {
   "cell_type": "markdown",
   "id": "41fefc37",
   "metadata": {},
   "source": [
    "# Args and Kwargs"
   ]
  },
  {
   "cell_type": "markdown",
   "id": "fee4016c",
   "metadata": {},
   "source": [
    "## Example 9"
   ]
  },
  {
   "cell_type": "code",
   "execution_count": 22,
   "id": "db6a15cf",
   "metadata": {},
   "outputs": [],
   "source": [
    "def calc_sum(*args):\n",
    "    return sum(args)"
   ]
  },
  {
   "cell_type": "code",
   "execution_count": 23,
   "id": "2440a719",
   "metadata": {},
   "outputs": [
    {
     "data": {
      "text/plain": [
       "42"
      ]
     },
     "execution_count": 23,
     "metadata": {},
     "output_type": "execute_result"
    }
   ],
   "source": [
    "calc_sum(2, 3, 4, 5, 6, 7, 7, 8)"
   ]
  },
  {
   "cell_type": "markdown",
   "id": "24daf361",
   "metadata": {},
   "source": [
    "## Example 10"
   ]
  },
  {
   "cell_type": "code",
   "execution_count": 24,
   "id": "81cf7ed4",
   "metadata": {},
   "outputs": [],
   "source": [
    "def calc_sum(**kwargs):\n",
    "    print(kwargs)\n",
    "    return sum(kwargs.values())"
   ]
  },
  {
   "cell_type": "code",
   "execution_count": 25,
   "id": "3d253d1e",
   "metadata": {},
   "outputs": [
    {
     "name": "stdout",
     "output_type": "stream",
     "text": [
      "{'a': 2, 'b': 3, 'c': 4, 'd': 5, 'e': 6, 'f': 7, 'g': 7, 'h': 8}\n"
     ]
    },
    {
     "data": {
      "text/plain": [
       "42"
      ]
     },
     "execution_count": 25,
     "metadata": {},
     "output_type": "execute_result"
    }
   ],
   "source": [
    "calc_sum(a=2, b=3, c=4, d=5, e=6, f=7, g=7, h=8)"
   ]
  },
  {
   "cell_type": "code",
   "execution_count": null,
   "id": "6af2c42b",
   "metadata": {},
   "outputs": [],
   "source": []
  }
 ],
 "metadata": {
  "@webio": {
   "lastCommId": null,
   "lastKernelId": null
  },
  "kernelspec": {
   "display_name": "Python 3",
   "language": "python",
   "name": "python3"
  },
  "language_info": {
   "codemirror_mode": {
    "name": "ipython",
    "version": 3
   },
   "file_extension": ".py",
   "mimetype": "text/x-python",
   "name": "python",
   "nbconvert_exporter": "python",
   "pygments_lexer": "ipython3",
   "version": "3.8.8"
  }
 },
 "nbformat": 4,
 "nbformat_minor": 5
}
